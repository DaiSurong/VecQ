{
 "cells": [
  {
   "cell_type": "code",
   "execution_count": 1,
   "metadata": {},
   "outputs": [
    {
     "name": "stderr",
     "output_type": "stream",
     "text": [
      "Using TensorFlow backend.\n"
     ]
    }
   ],
   "source": [
    "import tensorflow as tf\n",
    "import keras.backend as K\n",
    "import numpy as np\n",
    "import matplotlib.pyplot as plt\n",
    "import os \n",
    "os.environ[\"CUDA_VISIBLE_DEVICES\"] = \"0\""
   ]
  },
  {
   "cell_type": "code",
   "execution_count": 8,
   "metadata": {},
   "outputs": [],
   "source": [
    "# datasets and models\n",
    "from datasets import get_cifar10\n",
    "from quantize_layers import Conv2D_Q,Dense_Q,DepthwiseConv2D_Q\n",
    "from models import VGG7_N\n",
    "from quantize_methods import uL2Q,VecQ"
   ]
  },
  {
   "cell_type": "code",
   "execution_count": 6,
   "metadata": {},
   "outputs": [
    {
     "name": "stdout",
     "output_type": "stream",
     "text": [
      "Cifar10:  (50000, 32, 32, 3) (50000, 10) [1.0, 0.0]\n"
     ]
    }
   ],
   "source": [
    "x_train,y_train,x_test,y_test=get_cifar10()\n",
    "vgg_64=VGG7_N(using_bn=True,\n",
    "           weights_decay=0.0001,\n",
    "           kq=uL2Q(4),\n",
    "           bq=uL2Q(4),\n",
    "           aq=None,\n",
    "           after_activation=None,\n",
    "           N=64,\n",
    "           c_drop_rate=0,\n",
    "           f_drop_rate=0.5)"
   ]
  },
  {
   "cell_type": "code",
   "execution_count": 7,
   "metadata": {},
   "outputs": [
    {
     "name": "stdout",
     "output_type": "stream",
     "text": [
      "WARNING:tensorflow:From /home/gongcheng/anaconda3/lib/python3.7/site-packages/tensorflow/python/ops/math_ops.py:3066: to_int32 (from tensorflow.python.ops.math_ops) is deprecated and will be removed in a future version.\n",
      "Instructions for updating:\n",
      "Use tf.cast instead.\n",
      "Train on 50000 samples, validate on 10000 samples\n",
      "Epoch 1/10\n",
      "50000/50000 [==============================] - 14s 275us/step - loss: 2.3786 - acc: 0.3710 - val_loss: 2.7578 - val_acc: 0.3152\n",
      "Epoch 2/10\n",
      "50000/50000 [==============================] - 8s 168us/step - loss: 1.8028 - acc: 0.5025 - val_loss: 1.7549 - val_acc: 0.5047\n",
      "Epoch 3/10\n",
      "50000/50000 [==============================] - 8s 167us/step - loss: 1.5608 - acc: 0.5671 - val_loss: 1.8008 - val_acc: 0.4909\n",
      "Epoch 4/10\n",
      "50000/50000 [==============================] - 8s 167us/step - loss: 1.3948 - acc: 0.6111 - val_loss: 1.6887 - val_acc: 0.5264\n",
      "Epoch 5/10\n",
      "50000/50000 [==============================] - 8s 168us/step - loss: 1.2661 - acc: 0.6501 - val_loss: 1.3127 - val_acc: 0.6319\n",
      "Epoch 6/10\n",
      "50000/50000 [==============================] - 8s 167us/step - loss: 1.1738 - acc: 0.6778 - val_loss: 1.3016 - val_acc: 0.6386\n",
      "Epoch 7/10\n",
      "50000/50000 [==============================] - 8s 168us/step - loss: 1.1004 - acc: 0.7008 - val_loss: 1.1998 - val_acc: 0.6713\n",
      "Epoch 8/10\n",
      "50000/50000 [==============================] - 8s 164us/step - loss: 1.0215 - acc: 0.7277 - val_loss: 1.1711 - val_acc: 0.6821\n",
      "Epoch 9/10\n",
      "50000/50000 [==============================] - 8s 167us/step - loss: 0.9704 - acc: 0.7449 - val_loss: 1.1524 - val_acc: 0.6841\n",
      "Epoch 10/10\n",
      "50000/50000 [==============================] - 8s 167us/step - loss: 0.9229 - acc: 0.7606 - val_loss: 1.3322 - val_acc: 0.6479\n"
     ]
    },
    {
     "data": {
      "text/plain": [
       "<keras.callbacks.History at 0x7f7f40592a20>"
      ]
     },
     "execution_count": 7,
     "metadata": {},
     "output_type": "execute_result"
    }
   ],
   "source": [
    "vgg_64.compile(loss='categorical_crossentropy',\n",
    "              optimizer=\"sgd\",\n",
    "              metrics=['acc'])\n",
    "vgg_64.fit(x_train,y_train,epochs=10,batch_size=500,validation_data=(x_test,y_test))"
   ]
  }
 ],
 "metadata": {
  "kernelspec": {
   "display_name": "Python 3",
   "language": "python",
   "name": "python3"
  },
  "language_info": {
   "codemirror_mode": {
    "name": "ipython",
    "version": 3
   },
   "file_extension": ".py",
   "mimetype": "text/x-python",
   "name": "python",
   "nbconvert_exporter": "python",
   "pygments_lexer": "ipython3",
   "version": "3.7.3"
  }
 },
 "nbformat": 4,
 "nbformat_minor": 2
}
