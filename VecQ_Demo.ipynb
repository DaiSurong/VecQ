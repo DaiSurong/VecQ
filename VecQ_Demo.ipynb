{
 "cells": [
  {
   "cell_type": "code",
   "execution_count": 1,
   "metadata": {},
   "outputs": [
    {
     "name": "stderr",
     "output_type": "stream",
     "text": [
      "Using TensorFlow backend.\n"
     ]
    }
   ],
   "source": [
    "import tensorflow as tf\n",
    "import keras.backend as K\n",
    "import numpy as np\n",
    "import matplotlib.pyplot as plt\n",
    "import os \n",
    "os.environ[\"CUDA_VISIBLE_DEVICES\"] = \"0\""
   ]
  },
  {
   "cell_type": "code",
   "execution_count": 8,
   "metadata": {},
   "outputs": [],
   "source": [
    "# datasets and models\n",
    "from datasets import get_cifar10\n",
    "from quantize_layers import Conv2D_Q,Dense_Q,DepthwiseConv2D_Q\n",
    "from models import VGG7_N\n",
    "from quantize_methods import uL2Q,VecQ"
   ]
  },
  {
   "cell_type": "code",
   "execution_count": 6,
   "metadata": {},
   "outputs": [
    {
     "name": "stdout",
     "output_type": "stream",
     "text": [
      "Cifar10:  (50000, 32, 32, 3) (50000, 10) [1.0, 0.0]\n"
     ]
    }
   ],
   "source": [
    "x_train,y_train,x_test,y_test=get_cifar10()\n",
    "vgg_64=VGG7_N(using_bn=True,\n",
    "           weights_decay=0.0001,\n",
    "           kq=VecQ(4),\n",
    "           bq=VecQ(4),\n",
    "           aq=None,\n",
    "           after_activation=None,\n",
    "           N=64,\n",
    "           c_drop_rate=0,\n",
    "           f_drop_rate=0.5)"
   ]
  },
  {
   "cell_type": "code",
   "execution_count": 10,
   "metadata": {},
   "outputs": [
    {
     "name": "stdout",
     "output_type": "stream",
     "text": [
      "Train on 50000 samples, validate on 10000 samples\n",
      "Epoch 1/10\n",
      "50000/50000 [==============================] - 11s 224us/step - loss: 1.9597 - acc: 0.4226 - val_loss: 1.4619 - val_acc: 0.4742\n",
      "Epoch 2/10\n",
      "50000/50000 [==============================] - 8s 166us/step - loss: 1.1477 - acc: 0.5942 - val_loss: 1.2187 - val_acc: 0.5763\n",
      "Epoch 3/10\n",
      "50000/50000 [==============================] - 8s 168us/step - loss: 0.9130 - acc: 0.6799 - val_loss: 0.9227 - val_acc: 0.6782\n",
      "Epoch 4/10\n",
      "50000/50000 [==============================] - 8s 166us/step - loss: 0.7619 - acc: 0.7325 - val_loss: 0.8001 - val_acc: 0.7175\n",
      "Epoch 5/10\n",
      "50000/50000 [==============================] - 8s 167us/step - loss: 0.6496 - acc: 0.7725 - val_loss: 0.8178 - val_acc: 0.7196\n",
      "Epoch 6/10\n",
      "50000/50000 [==============================] - 8s 169us/step - loss: 0.5542 - acc: 0.8059 - val_loss: 0.9638 - val_acc: 0.6781\n",
      "Epoch 7/10\n",
      "50000/50000 [==============================] - 8s 168us/step - loss: 0.4736 - acc: 0.8331 - val_loss: 0.7262 - val_acc: 0.7540\n",
      "Epoch 8/10\n",
      "50000/50000 [==============================] - 8s 168us/step - loss: 0.4044 - acc: 0.8557 - val_loss: 0.7108 - val_acc: 0.7696\n",
      "Epoch 9/10\n",
      "50000/50000 [==============================] - 8s 167us/step - loss: 0.3402 - acc: 0.8805 - val_loss: 0.7074 - val_acc: 0.7712\n",
      "Epoch 10/10\n",
      "50000/50000 [==============================] - 8s 169us/step - loss: 0.2814 - acc: 0.9012 - val_loss: 0.7149 - val_acc: 0.7739\n"
     ]
    },
    {
     "data": {
      "text/plain": [
       "<keras.callbacks.History at 0x7f7f2eb62358>"
      ]
     },
     "execution_count": 10,
     "metadata": {},
     "output_type": "execute_result"
    }
   ],
   "source": [
    "import keras\n",
    "vgg_64.compile(loss='categorical_crossentropy',\n",
    "              optimizer=keras.optimizers.SGD(0.1),\n",
    "              metrics=['acc'])\n",
    "vgg_64.fit(x_train,y_train,epochs=10,batch_size=500,validation_data=(x_test,y_test))"
   ]
  }
 ],
 "metadata": {
  "kernelspec": {
   "display_name": "Python 3",
   "language": "python",
   "name": "python3"
  },
  "language_info": {
   "codemirror_mode": {
    "name": "ipython",
    "version": 3
   },
   "file_extension": ".py",
   "mimetype": "text/x-python",
   "name": "python",
   "nbconvert_exporter": "python",
   "pygments_lexer": "ipython3",
   "version": "3.7.3"
  }
 },
 "nbformat": 4,
 "nbformat_minor": 2
}
