{
 "cells": [
  {
   "cell_type": "code",
   "execution_count": 1,
   "metadata": {},
   "outputs": [
    {
     "name": "stderr",
     "output_type": "stream",
     "text": [
      "Using TensorFlow backend.\n"
     ]
    }
   ],
   "source": [
    "import os \n",
    "os.environ[\"CUDA_VISIBLE_DEVICES\"] = \"0\"\n",
    "import tensorflow as tf\n",
    "import keras.backend as K\n",
    "import numpy as np\n",
    "import matplotlib.pyplot as plt\n",
    "# datasets and models\n",
    "import sys\n",
    "sys.path.append(\"../../\")\n",
    "from datasets import get_cifar10\n",
    "from quantize_layers import Conv2D_Q,Dense_Q,DepthwiseConv2D_Q\n",
    "from models import VGG7_N\n",
    "from quantize_methods import uL2Q,VecQ"
   ]
  },
  {
   "cell_type": "markdown",
   "metadata": {},
   "source": [
    "# Produce a quantized model"
   ]
  },
  {
   "cell_type": "code",
   "execution_count": 2,
   "metadata": {},
   "outputs": [
    {
     "name": "stdout",
     "output_type": "stream",
     "text": [
      "Cifar10:  (50000, 32, 32, 3) (50000, 10) [1.0, 0.0]\n",
      "WARNING:tensorflow:From D:\\Anconda\\lib\\site-packages\\tensorflow\\python\\framework\\op_def_library.py:263: colocate_with (from tensorflow.python.framework.ops) is deprecated and will be removed in a future version.\n",
      "Instructions for updating:\n",
      "Colocations handled automatically by placer.\n",
      "WARNING:tensorflow:From D:\\Anconda\\lib\\site-packages\\keras\\backend\\tensorflow_backend.py:3445: calling dropout (from tensorflow.python.ops.nn_ops) with keep_prob is deprecated and will be removed in a future version.\n",
      "Instructions for updating:\n",
      "Please use `rate` instead of `keep_prob`. Rate should be set to `rate = 1 - keep_prob`.\n"
     ]
    }
   ],
   "source": [
    "x_train,y_train,x_test,y_test=get_cifar10()\n",
    "vgg_like=VGG7_N(using_bn=True,\n",
    "           weights_decay=0.0001,\n",
    "           kq=VecQ(4),\n",
    "           bq=VecQ(4),\n",
    "           aq=None,\n",
    "           after_activation=None,\n",
    "           N=64,\n",
    "           c_drop_rate=0,\n",
    "           f_drop_rate=0.5)"
   ]
  },
  {
   "cell_type": "markdown",
   "metadata": {},
   "source": [
    "# Fine-tuning quantized model"
   ]
  },
  {
   "cell_type": "code",
   "execution_count": 3,
   "metadata": {},
   "outputs": [
    {
     "name": "stdout",
     "output_type": "stream",
     "text": [
      "WARNING:tensorflow:From D:\\Anconda\\lib\\site-packages\\tensorflow\\python\\ops\\math_ops.py:3066: to_int32 (from tensorflow.python.ops.math_ops) is deprecated and will be removed in a future version.\n",
      "Instructions for updating:\n",
      "Use tf.cast instead.\n",
      "Train on 50000 samples, validate on 10000 samples\n",
      "Epoch 1/1\n",
      "50000/50000 [==============================] - 146s 3ms/step - loss: 2.1734 - acc: 0.4339 - val_loss: 1.7884 - val_acc: 0.5054\n",
      "10000/10000 [==============================] - 10s 1ms/step\n"
     ]
    },
    {
     "data": {
      "text/plain": [
       "[1.7883819508552552, 0.505399996638298]"
      ]
     },
     "execution_count": 3,
     "metadata": {},
     "output_type": "execute_result"
    }
   ],
   "source": [
    "import keras\n",
    "vgg_like.compile(loss='categorical_crossentropy',\n",
    "              optimizer=keras.optimizers.SGD(0.1),\n",
    "              metrics=['acc'])\n",
    "vgg_like.fit(x_train,y_train,epochs=1,batch_size=100,validation_data=(x_test,y_test))\n",
    "vgg_like.evaluate(x_test,y_test,batch_size=100)"
   ]
  },
  {
   "cell_type": "markdown",
   "metadata": {},
   "source": [
    "# Get the integer weights"
   ]
  },
  {
   "cell_type": "code",
   "execution_count": 5,
   "metadata": {},
   "outputs": [
    {
     "name": "stdout",
     "output_type": "stream",
     "text": [
      "alpha=0.011290\n"
     ]
    },
    {
     "data": {
      "image/png": "[encoded data removed]",
      "text/plain": [
       "<Figure size 432x288 with 1 Axes>"
      ]
     },
     "metadata": {
      "needs_background": "light"
     },
     "output_type": "display_data"
    }
   ],
   "source": [
    "# Take layer 0 as an example\n",
    "alpha=K.get_value(vgg_like.layers[0].kq.alpha)\n",
    "integer_weights=K.get_value(vgg_like.layers[0].kq.fixed)\n",
    "print(\"alpha=%f\"%alpha)\n",
    "_=plt.hist(integer_weights.reshape(-1),bins=100)"
   ]
  }
 ],
 "metadata": {
  "kernelspec": {
   "display_name": "Python 3",
   "language": "python",
   "name": "python3"
  },
  "language_info": {
   "codemirror_mode": {
    "name": "ipython",
    "version": 3
   },
   "file_extension": ".py",
   "mimetype": "text/x-python",
   "name": "python",
   "nbconvert_exporter": "python",
   "pygments_lexer": "ipython3",
   "version": "3.7.1"
  }
 },
 "nbformat": 4,
 "nbformat_minor": 2
}
