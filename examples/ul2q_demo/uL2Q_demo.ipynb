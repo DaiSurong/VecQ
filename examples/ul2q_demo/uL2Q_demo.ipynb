{
 "cells": [
  {
   "cell_type": "code",
   "execution_count": 1,
   "metadata": {},
   "outputs": [
    {
     "name": "stderr",
     "output_type": "stream",
     "text": [
      "Using TensorFlow backend.\n"
     ]
    }
   ],
   "source": [
    "import os \n",
    "os.environ[\"CUDA_VISIBLE_DEVICES\"] = \"0\"\n",
    "import tensorflow as tf\n",
    "import keras.backend as K\n",
    "import numpy as np\n",
    "import matplotlib.pyplot as plt\n",
    "# datasets and models\n",
    "from vecq.datasets import get_cifar10\n",
    "from vecq.quantize_layers import Conv2D_Q,Dense_Q,DepthwiseConv2D_Q\n",
    "from vecq.models import VGG7_N\n",
    "from vecq.quantize_methods import uL2Q,VecQ"
   ]
  },
  {
   "cell_type": "code",
   "execution_count": 2,
   "metadata": {},
   "outputs": [
    {
     "name": "stdout",
     "output_type": "stream",
     "text": [
      "Cifar10:  (50000, 32, 32, 3) (50000, 10) [1.0, 0.0]\n",
      "WARNING:tensorflow:From D:\\Anconda\\lib\\site-packages\\tensorflow\\python\\framework\\op_def_library.py:263: colocate_with (from tensorflow.python.framework.ops) is deprecated and will be removed in a future version.\n",
      "Instructions for updating:\n",
      "Colocations handled automatically by placer.\n",
      "WARNING:tensorflow:From D:\\Anconda\\lib\\site-packages\\keras\\backend\\tensorflow_backend.py:3445: calling dropout (from tensorflow.python.ops.nn_ops) with keep_prob is deprecated and will be removed in a future version.\n",
      "Instructions for updating:\n",
      "Please use `rate` instead of `keep_prob`. Rate should be set to `rate = 1 - keep_prob`.\n"
     ]
    }
   ],
   "source": [
    "x_train,y_train,x_test,y_test=get_cifar10()\n",
    "vgg_64=VGG_like(kq=VecQ(4),\n",
    "           bq=VecQ(4),\n",
    "           aq=None,\n",
    "           activation='relu',\n",
    "           after_activation=None)"
   ]
  },
  {
   "cell_type": "code",
   "execution_count": 7,
   "metadata": {},
   "outputs": [
    {
     "name": "stdout",
     "output_type": "stream",
     "text": [
      "WARNING:tensorflow:From /home/gongcheng/anaconda3/lib/python3.7/site-packages/tensorflow/python/ops/math_ops.py:3066: to_int32 (from tensorflow.python.ops.math_ops) is deprecated and will be removed in a future version.\n",
      "Instructions for updating:\n",
      "Use tf.cast instead.\n",
      "Train on 50000 samples, validate on 10000 samples\n",
      "Epoch 1/10\n",
      "50000/50000 [==============================] - 14s 275us/step - loss: 2.3786 - acc: 0.3710 - val_loss: 2.7578 - val_acc: 0.3152\n",
      "Epoch 2/10\n",
      "50000/50000 [==============================] - 8s 168us/step - loss: 1.8028 - acc: 0.5025 - val_loss: 1.7549 - val_acc: 0.5047\n",
      "Epoch 3/10\n",
      "50000/50000 [==============================] - 8s 167us/step - loss: 1.5608 - acc: 0.5671 - val_loss: 1.8008 - val_acc: 0.4909\n",
      "Epoch 4/10\n",
      "50000/50000 [==============================] - 8s 167us/step - loss: 1.3948 - acc: 0.6111 - val_loss: 1.6887 - val_acc: 0.5264\n",
      "Epoch 5/10\n",
      "50000/50000 [==============================] - 8s 168us/step - loss: 1.2661 - acc: 0.6501 - val_loss: 1.3127 - val_acc: 0.6319\n",
      "Epoch 6/10\n",
      "50000/50000 [==============================] - 8s 167us/step - loss: 1.1738 - acc: 0.6778 - val_loss: 1.3016 - val_acc: 0.6386\n",
      "Epoch 7/10\n",
      "50000/50000 [==============================] - 8s 168us/step - loss: 1.1004 - acc: 0.7008 - val_loss: 1.1998 - val_acc: 0.6713\n",
      "Epoch 8/10\n",
      "50000/50000 [==============================] - 8s 164us/step - loss: 1.0215 - acc: 0.7277 - val_loss: 1.1711 - val_acc: 0.6821\n",
      "Epoch 9/10\n",
      "50000/50000 [==============================] - 8s 167us/step - loss: 0.9704 - acc: 0.7449 - val_loss: 1.1524 - val_acc: 0.6841\n",
      "Epoch 10/10\n",
      "50000/50000 [==============================] - 8s 167us/step - loss: 0.9229 - acc: 0.7606 - val_loss: 1.3322 - val_acc: 0.6479\n"
     ]
    },
    {
     "data": {
      "text/plain": [
       "<keras.callbacks.History at 0x7f7f40592a20>"
      ]
     },
     "execution_count": 7,
     "metadata": {},
     "output_type": "execute_result"
    }
   ],
   "source": [
    "vgg_like.compile(loss='categorical_crossentropy',\n",
    "              optimizer=\"sgd\",\n",
    "              metrics=['acc'])\n",
    "vgg_like.fit(x_train,y_train,epochs=10,batch_size=500,validation_data=(x_test,y_test))"
   ]
  },
  {
   "cell_type": "code",
   "execution_count": 3,
   "metadata": {},
   "outputs": [
    {
     "name": "stdout",
     "output_type": "stream",
     "text": [
      "alpha=0.014827\n"
     ]
    },
    {
     "data": {
      "image/png": "[encoded data removed]",
      "text/plain": [
       "<Figure size 432x288 with 1 Axes>"
      ]
     },
     "metadata": {
      "needs_background": "light"
     },
     "output_type": "display_data"
    }
   ],
   "source": [
    "# Take layer 0 as an example\n",
    "beta=K.get_value(vgg_like.layers[1].kq.beta)\n",
    "alpha=K.get_value(vgg_like.layers[1].kq.alpha)\n",
    "integer_weights=K.get_value(vgg_like.layers[1].kq.fixed)\n",
    "print(\"alpha=%f\"%alpha)\n",
    "_=plt.hist(integer_weights.reshape(-1),bins=100)"
   ]
  }
 ],
 "metadata": {
  "kernelspec": {
   "display_name": "Python 3",
   "language": "python",
   "name": "python3"
  },
  "language_info": {
   "codemirror_mode": {
    "name": "ipython",
    "version": 3
   },
   "file_extension": ".py",
   "mimetype": "text/x-python",
   "name": "python",
   "nbconvert_exporter": "python",
   "pygments_lexer": "ipython3",
   "version": "3.7.3"
  }
 },
 "nbformat": 4,
 "nbformat_minor": 2
}
